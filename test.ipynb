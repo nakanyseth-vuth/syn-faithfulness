{
 "cells": [
  {
   "cell_type": "code",
   "execution_count": 1,
   "id": "cf7fd618",
   "metadata": {},
   "outputs": [
    {
     "name": "stderr",
     "output_type": "stream",
     "text": [
      "/Users/lievretre/anaconda3/envs/python3016/lib/python3.10/site-packages/tqdm/auto.py:21: TqdmWarning: IProgress not found. Please update jupyter and ipywidgets. See https://ipywidgets.readthedocs.io/en/stable/user_install.html\n",
      "  from .autonotebook import tqdm as notebook_tqdm\n"
     ]
    }
   ],
   "source": [
    "from utils import load_redocred, format_dataset_redocred, format_triples_for_input\n",
    "from pprint import pprint"
   ]
  },
  {
   "cell_type": "code",
   "execution_count": 2,
   "id": "285943ba",
   "metadata": {},
   "outputs": [],
   "source": [
    "# Load re-docred dataset\n",
    "ds = load_redocred()\n",
    "train_dataset = format_dataset_redocred(ds['train_annotated'])"
   ]
  },
  {
   "cell_type": "code",
   "execution_count": 3,
   "id": "72b6fa48",
   "metadata": {},
   "outputs": [
    {
     "data": {
      "text/plain": [
       "[{'head': {'entity': 'Stockholm', 'type': 'LOC'},\n",
       "  'tail': {'entity': 'Sweden', 'type': 'LOC'},\n",
       "  'relation': 'country',\n",
       "  'evidence': [0]},\n",
       " {'head': {'entity': 'Stockholm', 'type': 'LOC'},\n",
       "  'tail': {'entity': 'Swedish', 'type': 'LOC'},\n",
       "  'relation': 'country',\n",
       "  'evidence': [0]},\n",
       " {'head': {'entity': 'Harpo', 'type': 'PER'},\n",
       "  'tail': {'entity': 'Sweden', 'type': 'LOC'},\n",
       "  'relation': 'country of citizenship',\n",
       "  'evidence': [4]},\n",
       " {'head': {'entity': 'Harpo', 'type': 'PER'},\n",
       "  'tail': {'entity': 'Swedish', 'type': 'LOC'},\n",
       "  'relation': 'country of citizenship',\n",
       "  'evidence': [4]},\n",
       " {'head': {'entity': 'Bergqvist', 'type': 'PER'},\n",
       "  'tail': {'entity': '6 October 1962', 'type': 'TIME'},\n",
       "  'relation': 'date of birth',\n",
       "  'evidence': [0]},\n",
       " {'head': {'entity': 'Niklas Bergqvist', 'type': 'PER'},\n",
       "  'tail': {'entity': '6 October 1962', 'type': 'TIME'},\n",
       "  'relation': 'date of birth',\n",
       "  'evidence': [0]},\n",
       " {'head': {'entity': 'Bergqvist', 'type': 'PER'},\n",
       "  'tail': {'entity': 'Stockholm', 'type': 'LOC'},\n",
       "  'relation': 'place of birth',\n",
       "  'evidence': [0]},\n",
       " {'head': {'entity': 'Niklas Bergqvist', 'type': 'PER'},\n",
       "  'tail': {'entity': 'Stockholm', 'type': 'LOC'},\n",
       "  'relation': 'place of birth',\n",
       "  'evidence': [0]},\n",
       " {'head': {'entity': 'Bergqvist', 'type': 'PER'},\n",
       "  'tail': {'entity': 'Sweden', 'type': 'LOC'},\n",
       "  'relation': 'country of citizenship',\n",
       "  'evidence': [0]},\n",
       " {'head': {'entity': 'Bergqvist', 'type': 'PER'},\n",
       "  'tail': {'entity': 'Swedish', 'type': 'LOC'},\n",
       "  'relation': 'country of citizenship',\n",
       "  'evidence': [0]},\n",
       " {'head': {'entity': 'Niklas Bergqvist', 'type': 'PER'},\n",
       "  'tail': {'entity': 'Sweden', 'type': 'LOC'},\n",
       "  'relation': 'country of citizenship',\n",
       "  'evidence': [0]},\n",
       " {'head': {'entity': 'Niklas Bergqvist', 'type': 'PER'},\n",
       "  'tail': {'entity': 'Swedish', 'type': 'LOC'},\n",
       "  'relation': 'country of citizenship',\n",
       "  'evidence': [0]}]"
      ]
     },
     "execution_count": 3,
     "metadata": {},
     "output_type": "execute_result"
    }
   ],
   "source": [
    "train_dataset[1][\"triples\"]"
   ]
  },
  {
   "cell_type": "code",
   "execution_count": 6,
   "id": "4480b7f7",
   "metadata": {},
   "outputs": [],
   "source": [
    "input_kg = format_triples_for_input(train_dataset[2][\"triples\"])"
   ]
  },
  {
   "cell_type": "code",
   "execution_count": 7,
   "id": "765f6e5b",
   "metadata": {},
   "outputs": [
    {
     "name": "stdout",
     "output_type": "stream",
     "text": [
      "('You are a creative french text writer. Write me a text using the provided '\n",
      " 'Knowledge Graph. Your objective is to write a coherent text that '\n",
      " 'incorporates all the given triples (head, relation, tail) of the Knowledge '\n",
      " 'Graph. You have the right to make the text creative and informative, but you '\n",
      " 'must make sure that the text reflects the given Knowledge Graph.\\n'\n",
      " '\\n'\n",
      " '# Triples (head:type, relation, tail:type):\\n'\n",
      " '(\"Stockholm\":LOC, \"country\", \"Sweden\":LOC)\\n'\n",
      " '(\"Stockholm\":LOC, \"country\", \"Swedish\":LOC)\\n'\n",
      " '(\"Harpo\":PER, \"country of citizenship\", \"Sweden\":LOC)\\n'\n",
      " '(\"Harpo\":PER, \"country of citizenship\", \"Swedish\":LOC)\\n'\n",
      " '(\"Bergqvist\":PER, \"date of birth\", \"6 October 1962\":TIME)\\n'\n",
      " '(\"Niklas Bergqvist\":PER, \"date of birth\", \"6 October 1962\":TIME)\\n'\n",
      " '(\"Bergqvist\":PER, \"place of birth\", \"Stockholm\":LOC)\\n'\n",
      " '(\"Niklas Bergqvist\":PER, \"place of birth\", \"Stockholm\":LOC)\\n'\n",
      " '(\"Bergqvist\":PER, \"country of citizenship\", \"Sweden\":LOC)\\n'\n",
      " '(\"Bergqvist\":PER, \"country of citizenship\", \"Swedish\":LOC)\\n'\n",
      " '(\"Niklas Bergqvist\":PER, \"country of citizenship\", \"Sweden\":LOC)\\n'\n",
      " '(\"Niklas Bergqvist\":PER, \"country of citizenship\", \"Swedish\":LOC)\\n'\n",
      " '\\n'\n",
      " '# Text:\\n'\n",
      " 'Niklas Bergqvist (born 6 October 1962 in Stockholm), is a Swedish '\n",
      " 'songwriter, producer and musician. His career started in 1984, as a founding '\n",
      " 'member of the Synthpop band Shanghai, which he started along his school '\n",
      " 'friends. The band released two albums and numerous singles, with their debut '\n",
      " 'single \"Ballerina\", produced by former Europe guitarist Kee Marcello. '\n",
      " 'Following the success of the single, the album also gained positive '\n",
      " 'attention, resulting in the band touring around Sweden. The second, and '\n",
      " 'final, studio album was produced by Swedish pop star Harpo. After the band '\n",
      " 'split-up in 1987, Bergqvist formed and played in several other bands until '\n",
      " 'he decided to focus more on songwriting, resulting in several releases ever '\n",
      " 'since. In 2015, he founded the independent record label Tracks of Sweden '\n",
      " 'with songwriting partner Simon Johansson.\\n'\n",
      " '\\n'\n",
      " '# Triples (head:type, relation, tail:type):\\n'\n",
      " '(\"Queensland\":LOC, \"located in the administrative territorial entity\", '\n",
      " '\"Australia\":LOC)\\n'\n",
      " '(\"Queensland\":LOC, \"country\", \"Australia\":LOC)\\n'\n",
      " '(\"Queensland\":LOC, \"contains administrative territorial entity\", \"Gold '\n",
      " 'Coast\":LOC)\\n'\n",
      " '(\"Australia\":LOC, \"contains administrative territorial entity\", '\n",
      " '\"Queensland\":LOC)\\n'\n",
      " '(\"Australia\":LOC, \"ethnic group\", \"Australian\":LOC)\\n'\n",
      " '(\"Event Cinemas\":ORG, \"country\", \"Australia\":LOC)\\n'\n",
      " '(\"Surfers Riverwalk\":LOC, \"located in the administrative territorial '\n",
      " 'entity\", \"Queensland\":LOC)\\n'\n",
      " '(\"Surfers Riverwalk\":LOC, \"country\", \"Australia\":LOC)\\n'\n",
      " '(\"Broadbeach Waters\":LOC, \"located in the administrative territorial '\n",
      " 'entity\", \"Queensland\":LOC)\\n'\n",
      " '(\"Broadbeach Waters\":LOC, \"country\", \"Australia\":LOC)\\n'\n",
      " '(\"Broadbeach Waters\":LOC, \"located in the administrative territorial '\n",
      " 'entity\", \"Gold Coast\":LOC)\\n'\n",
      " '(\"Gold Coast\":LOC, \"located in the administrative territorial entity\", '\n",
      " '\"Queensland\":LOC)\\n'\n",
      " '(\"Gold Coast\":LOC, \"country\", \"Australia\":LOC)\\n'\n",
      " '(\"Toys \\' R \\' Us\":ORG, \"country\", \"Australia\":LOC)\\n'\n",
      " '(\"Myer\":ORG, \"country\", \"Australia\":LOC)\\n'\n",
      " '(\"Kmart\":ORG, \"country\", \"Australia\":LOC)\\n'\n",
      " '(\"Coles\":ORG, \"country\", \"Australia\":LOC)\\n'\n",
      " '(\"Daimaru\":ORG, \"country\", \"Australia\":LOC)\\n'\n",
      " '(\"Surfside Buslines\":ORG, \"country\", \"Australia\":LOC)\\n'\n",
      " '(\"Broadbeach South station\":LOC, \"located in the administrative territorial '\n",
      " 'entity\", \"Queensland\":LOC)\\n'\n",
      " '(\"Broadbeach South station\":LOC, \"country\", \"Australia\":LOC)\\n'\n",
      " '(\"Star Gold Coast\":LOC, \"located in the administrative territorial entity\", '\n",
      " '\"Queensland\":LOC)\\n'\n",
      " '(\"Star Gold Coast\":LOC, \"country\", \"Australia\":LOC)\\n'\n",
      " '(\"Pacific Fair\":LOC, \"located in the administrative territorial entity\", '\n",
      " '\"Queensland\":LOC)\\n'\n",
      " '(\"Pacific Fair\":LOC, \"country\", \"Australia\":LOC)\\n'\n",
      " '(\"Pacific Fair\":LOC, \"inception\", \"1977\":TIME)\\n'\n",
      " '(\"Little Tallebudgera Creek\":LOC, \"country\", \"Australia\":LOC)\\n'\n",
      " '(\"Gold Coast Convention & Exhibition Centre\":LOC, \"country\", '\n",
      " '\"Australia\":LOC)\\n'\n",
      " '\\n'\n",
      " '# Text:\\n')\n"
     ]
    }
   ],
   "source": [
    "# Text Generation Prompt Example:\n",
    "\n",
    "def generate_prompt(input_KG):\n",
    "    PROMPT=f\"\"\"You are a creative french text writer. Write me a text using the provided Knowledge Graph. Your objective is to write a coherent text that incorporates all the given triples (head, relation, tail) of the Knowledge Graph. You have the right to make the text creative and informative, but you must make sure that the text reflects the given Knowledge Graph.\n",
    "\n",
    "# Triples (head:type, relation, tail:type):\n",
    "(\"Stockholm\":LOC, \"country\", \"Sweden\":LOC)\n",
    "(\"Stockholm\":LOC, \"country\", \"Swedish\":LOC)\n",
    "(\"Harpo\":PER, \"country of citizenship\", \"Sweden\":LOC)\n",
    "(\"Harpo\":PER, \"country of citizenship\", \"Swedish\":LOC)\n",
    "(\"Bergqvist\":PER, \"date of birth\", \"6 October 1962\":TIME)\n",
    "(\"Niklas Bergqvist\":PER, \"date of birth\", \"6 October 1962\":TIME)\n",
    "(\"Bergqvist\":PER, \"place of birth\", \"Stockholm\":LOC)\n",
    "(\"Niklas Bergqvist\":PER, \"place of birth\", \"Stockholm\":LOC)\n",
    "(\"Bergqvist\":PER, \"country of citizenship\", \"Sweden\":LOC)\n",
    "(\"Bergqvist\":PER, \"country of citizenship\", \"Swedish\":LOC)\n",
    "(\"Niklas Bergqvist\":PER, \"country of citizenship\", \"Sweden\":LOC)\n",
    "(\"Niklas Bergqvist\":PER, \"country of citizenship\", \"Swedish\":LOC)\n",
    "\n",
    "# Text:\n",
    "Niklas Bergqvist (born 6 October 1962 in Stockholm), is a Swedish songwriter, producer and musician. His career started in 1984, as a founding member of the Synthpop band Shanghai, which he started along his school friends. The band released two albums and numerous singles, with their debut single \"Ballerina\", produced by former Europe guitarist Kee Marcello. Following the success of the single, the album also gained positive attention, resulting in the band touring around Sweden. The second, and final, studio album was produced by Swedish pop star Harpo. After the band split-up in 1987, Bergqvist formed and played in several other bands until he decided to focus more on songwriting, resulting in several releases ever since. In 2015, he founded the independent record label Tracks of Sweden with songwriting partner Simon Johansson.\n",
    "\n",
    "{input_KG}\n",
    "\n",
    "# Text:\n",
    "\"\"\"\n",
    "    return PROMPT\n",
    "pprint(generate_prompt(input_kg))"
   ]
  }
 ],
 "metadata": {
  "kernelspec": {
   "display_name": "python3016",
   "language": "python",
   "name": "python3"
  },
  "language_info": {
   "codemirror_mode": {
    "name": "ipython",
    "version": 3
   },
   "file_extension": ".py",
   "mimetype": "text/x-python",
   "name": "python",
   "nbconvert_exporter": "python",
   "pygments_lexer": "ipython3",
   "version": "3.10.13"
  }
 },
 "nbformat": 4,
 "nbformat_minor": 5
}
